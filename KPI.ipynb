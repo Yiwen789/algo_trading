{
 "cells": [
  {
   "cell_type": "code",
   "execution_count": 55,
   "metadata": {},
   "outputs": [],
   "source": [
    "import yfinance as yf\n",
    "import numpy as np\n",
    "import datetime as dt"
   ]
  },
  {
   "cell_type": "code",
   "execution_count": 56,
   "metadata": {},
   "outputs": [
    {
     "name": "stdout",
     "output_type": "stream",
     "text": [
      "[*********************100%***********************]  1 of 1 completed\n"
     ]
    }
   ],
   "source": [
    "ticker = \"^GSPC\"\n",
    "SnP = yf.download(ticker,dt.date.today()-dt.timedelta(1825),dt.datetime.today())"
   ]
  },
  {
   "cell_type": "markdown",
   "metadata": {},
   "source": [
    "CAGR"
   ]
  },
  {
   "cell_type": "code",
   "execution_count": 54,
   "metadata": {},
   "outputs": [],
   "source": [
    "def CAGR(df, type):\n",
    "    #function to calculate the Cumulative Annual Growth Rate of a trading strategy\n",
    "    if type == 'day':\n",
    "        df['daily_ret'] = df['Adj Close'].pct_change()\n",
    "        df['cum_return'] = (1 + df['daily_ret']).cumprod()\n",
    "        n = len(df)/252 #252 is the number of trading days in a typical year\n",
    "        CAGR = (df['cum_return'].tolist()[-1])**(1/n) - 1 #last value of cum_return\n",
    "        return CAGR\n",
    "    elif type == 'month':\n",
    "        \"function to calculate the Cumulative Annual Growth Rate of a trading strategy\"\n",
    "        df = df.copy()\n",
    "        df[\"cum_return\"] = (1 + df[\"mon_ret\"]).cumprod()\n",
    "        n = len(df)/12\n",
    "        CAGR = (df[\"cum_return\"].tolist()[-1])**(1/n) - 1\n",
    "        return CAGR\n",
    "def CAGR_month(df):\n",
    "    \"function to calculate the Cumulative Annual Growth Rate of a trading strategy\"\n",
    "    df = df.copy()\n",
    "    df[\"cum_return\"] = (1 + df[\"mon_ret\"]).cumprod()\n",
    "    n = len(df)/12\n",
    "    CAGR = (df[\"cum_return\"].tolist()[-1])**(1/n) - 1\n",
    "    return CAGR"
   ]
  },
  {
   "cell_type": "code",
   "execution_count": 49,
   "metadata": {},
   "outputs": [
    {
     "data": {
      "text/plain": [
       "0.08442147700586444"
      ]
     },
     "execution_count": 49,
     "metadata": {},
     "output_type": "execute_result"
    }
   ],
   "source": [
    "CAGR(SnP, 'day')"
   ]
  },
  {
   "cell_type": "markdown",
   "metadata": {},
   "source": [
    "Volatility"
   ]
  },
  {
   "cell_type": "code",
   "execution_count": 19,
   "metadata": {},
   "outputs": [],
   "source": [
    "def volatility(df, cycle):\n",
    "    df['daily_ret'] = df['Adj Close'].pct_change()\n",
    "    vol = df['daily_ret'].std() * np.sqrt(cycle)\n",
    "    return vol"
   ]
  },
  {
   "cell_type": "code",
   "execution_count": 20,
   "metadata": {},
   "outputs": [
    {
     "data": {
      "text/plain": [
       "-15.86232746560775"
      ]
     },
     "execution_count": 20,
     "metadata": {},
     "output_type": "execute_result"
    }
   ],
   "source": [
    "volatility(SnP)"
   ]
  },
  {
   "cell_type": "markdown",
   "metadata": {},
   "source": [
    "Sharpe Ratio"
   ]
  },
  {
   "cell_type": "code",
   "execution_count": 22,
   "metadata": {},
   "outputs": [],
   "source": [
    "rf = 0.022 #risk free return\n",
    "def sharpe(df, rf):\n",
    "    sr = (CAGR(df) - rf)/volatility(df)\n",
    "    return sr"
   ]
  },
  {
   "cell_type": "code",
   "execution_count": 24,
   "metadata": {},
   "outputs": [
    {
     "data": {
      "text/plain": [
       "-0.003935202897633082"
      ]
     },
     "execution_count": 24,
     "metadata": {},
     "output_type": "execute_result"
    }
   ],
   "source": [
    "sharpe(SnP, 0.022)"
   ]
  },
  {
   "cell_type": "markdown",
   "metadata": {},
   "source": [
    "Max Drawdown"
   ]
  },
  {
   "cell_type": "code",
   "execution_count": 45,
   "metadata": {},
   "outputs": [],
   "source": [
    "def max_dd(df, type):\n",
    "    if type == 'day':\n",
    "    #function to calculate max drawdown\n",
    "        df[\"daily_ret\"] = df[\"Adj Close\"].pct_change()\n",
    "        df[\"cum_return\"] = (1 + df[\"daily_ret\"]).cumprod()\n",
    "        df[\"cum_roll_max\"] = df[\"cum_return\"].cummax()\n",
    "        df[\"drawdown\"] = df[\"cum_roll_max\"] - df[\"cum_return\"]\n",
    "        df[\"drawdown_pct\"] = df[\"drawdown\"]/df[\"cum_roll_max\"]\n",
    "        max_dd = df[\"drawdown_pct\"].max()\n",
    "        return max_dd\n",
    "    elif type == 'month':\n",
    "        df[\"cum_return\"] = (1 + df[\"mon_ret\"]).cumprod()\n",
    "        df[\"cum_roll_max\"] = df[\"cum_return\"].cummax()\n",
    "        df[\"drawdown\"] = df[\"cum_roll_max\"] - df[\"cum_return\"]\n",
    "        df[\"drawdown_pct\"] = df[\"drawdown\"]/df[\"cum_roll_max\"]\n",
    "        max_dd = df[\"drawdown_pct\"].max()\n",
    "        return max_dd"
   ]
  },
  {
   "cell_type": "code",
   "execution_count": 46,
   "metadata": {},
   "outputs": [
    {
     "data": {
      "text/plain": [
       "0.33924960002653276"
      ]
     },
     "execution_count": 46,
     "metadata": {},
     "output_type": "execute_result"
    }
   ],
   "source": [
    "max_dd(SnP, 'day')"
   ]
  },
  {
   "cell_type": "markdown",
   "metadata": {},
   "source": [
    "Calmar Ratio"
   ]
  },
  {
   "cell_type": "code",
   "execution_count": 27,
   "metadata": {},
   "outputs": [],
   "source": [
    "def calmar(df):\n",
    "    clmr = CAGR(df)/max_dd(df)\n",
    "    return clmr"
   ]
  },
  {
   "cell_type": "code",
   "execution_count": 29,
   "metadata": {},
   "outputs": [
    {
     "data": {
      "text/plain": [
       "0.24884768323753906"
      ]
     },
     "execution_count": 29,
     "metadata": {},
     "output_type": "execute_result"
    }
   ],
   "source": [
    "calmar(SnP)"
   ]
  },
  {
   "cell_type": "code",
   "execution_count": null,
   "metadata": {},
   "outputs": [],
   "source": []
  }
 ],
 "metadata": {
  "kernelspec": {
   "display_name": "Python 3",
   "language": "python",
   "name": "python3"
  },
  "language_info": {
   "codemirror_mode": {
    "name": "ipython",
    "version": 3
   },
   "file_extension": ".py",
   "mimetype": "text/x-python",
   "name": "python",
   "nbconvert_exporter": "python",
   "pygments_lexer": "ipython3",
   "version": "3.7.4"
  }
 },
 "nbformat": 4,
 "nbformat_minor": 2
}
