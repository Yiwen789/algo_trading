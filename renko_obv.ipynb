{
 "cells": [
  {
   "cell_type": "code",
   "execution_count": 1,
   "metadata": {},
   "outputs": [],
   "source": [
    "import numpy as np\n",
    "import pandas as pd\n",
    "from stocktrends import Renko\n",
    "import statsmodels.api as sm\n",
    "from alpha_vantage.timeseries import TimeSeries\n",
    "import copy"
   ]
  },
  {
   "cell_type": "code",
   "execution_count": 2,
   "metadata": {},
   "outputs": [
    {
     "name": "stdout",
     "output_type": "stream",
     "text": [
      "[*********************100%***********************]  1 of 1 completed\n",
      "imported\n",
      "[*********************100%***********************]  1 of 1 completed\n",
      "[*********************100%***********************]  1 of 1 completed\n",
      "imported\n"
     ]
    }
   ],
   "source": [
    "from KPI import *\n",
    "from Technical_Indicators import *"
   ]
  },
  {
   "cell_type": "code",
   "execution_count": 3,
   "metadata": {},
   "outputs": [],
   "source": [
    "key_path = 'C:\\\\Users\\\\Yiwen L\\\\Documents\\\\alg_t\\\\code\\\\key.txt'\n",
    "ts = TimeSeries(key=open(key_path,'r').read(), output_format='pandas')"
   ]
  },
  {
   "cell_type": "code",
   "execution_count": 4,
   "metadata": {},
   "outputs": [
    {
     "data": {
      "text/html": [
       "<div>\n",
       "<style scoped>\n",
       "    .dataframe tbody tr th:only-of-type {\n",
       "        vertical-align: middle;\n",
       "    }\n",
       "\n",
       "    .dataframe tbody tr th {\n",
       "        vertical-align: top;\n",
       "    }\n",
       "\n",
       "    .dataframe thead th {\n",
       "        text-align: right;\n",
       "    }\n",
       "</style>\n",
       "<table border=\"1\" class=\"dataframe\">\n",
       "  <thead>\n",
       "    <tr style=\"text-align: right;\">\n",
       "      <th></th>\n",
       "      <th>1. open</th>\n",
       "      <th>2. high</th>\n",
       "      <th>3. low</th>\n",
       "      <th>4. close</th>\n",
       "      <th>5. volume</th>\n",
       "    </tr>\n",
       "    <tr>\n",
       "      <th>date</th>\n",
       "      <th></th>\n",
       "      <th></th>\n",
       "      <th></th>\n",
       "      <th></th>\n",
       "      <th></th>\n",
       "    </tr>\n",
       "  </thead>\n",
       "  <tbody>\n",
       "    <tr>\n",
       "      <td>2020-06-30 16:00:00</td>\n",
       "      <td>204.22</td>\n",
       "      <td>204.2300</td>\n",
       "      <td>201.370</td>\n",
       "      <td>203.460</td>\n",
       "      <td>2957591.0</td>\n",
       "    </tr>\n",
       "    <tr>\n",
       "      <td>2020-06-30 15:55:00</td>\n",
       "      <td>202.77</td>\n",
       "      <td>204.4000</td>\n",
       "      <td>202.770</td>\n",
       "      <td>204.220</td>\n",
       "      <td>1802476.0</td>\n",
       "    </tr>\n",
       "    <tr>\n",
       "      <td>2020-06-30 15:50:00</td>\n",
       "      <td>202.47</td>\n",
       "      <td>202.7900</td>\n",
       "      <td>202.380</td>\n",
       "      <td>202.790</td>\n",
       "      <td>591486.0</td>\n",
       "    </tr>\n",
       "    <tr>\n",
       "      <td>2020-06-30 15:45:00</td>\n",
       "      <td>202.41</td>\n",
       "      <td>202.5300</td>\n",
       "      <td>202.345</td>\n",
       "      <td>202.455</td>\n",
       "      <td>355698.0</td>\n",
       "    </tr>\n",
       "    <tr>\n",
       "      <td>2020-06-30 15:40:00</td>\n",
       "      <td>202.44</td>\n",
       "      <td>202.4563</td>\n",
       "      <td>202.260</td>\n",
       "      <td>202.410</td>\n",
       "      <td>298837.0</td>\n",
       "    </tr>\n",
       "    <tr>\n",
       "      <td>...</td>\n",
       "      <td>...</td>\n",
       "      <td>...</td>\n",
       "      <td>...</td>\n",
       "      <td>...</td>\n",
       "      <td>...</td>\n",
       "    </tr>\n",
       "    <tr>\n",
       "      <td>2020-06-11 09:55:00</td>\n",
       "      <td>193.52</td>\n",
       "      <td>194.1000</td>\n",
       "      <td>193.460</td>\n",
       "      <td>193.846</td>\n",
       "      <td>552265.0</td>\n",
       "    </tr>\n",
       "    <tr>\n",
       "      <td>2020-06-11 09:50:00</td>\n",
       "      <td>193.36</td>\n",
       "      <td>193.7000</td>\n",
       "      <td>192.950</td>\n",
       "      <td>193.540</td>\n",
       "      <td>567395.0</td>\n",
       "    </tr>\n",
       "    <tr>\n",
       "      <td>2020-06-11 09:45:00</td>\n",
       "      <td>192.58</td>\n",
       "      <td>193.4000</td>\n",
       "      <td>192.320</td>\n",
       "      <td>193.320</td>\n",
       "      <td>764458.0</td>\n",
       "    </tr>\n",
       "    <tr>\n",
       "      <td>2020-06-11 09:40:00</td>\n",
       "      <td>192.50</td>\n",
       "      <td>192.7700</td>\n",
       "      <td>192.020</td>\n",
       "      <td>192.590</td>\n",
       "      <td>1864737.0</td>\n",
       "    </tr>\n",
       "    <tr>\n",
       "      <td>2020-06-11 09:35:00</td>\n",
       "      <td>193.13</td>\n",
       "      <td>193.8900</td>\n",
       "      <td>192.050</td>\n",
       "      <td>193.120</td>\n",
       "      <td>1919247.0</td>\n",
       "    </tr>\n",
       "  </tbody>\n",
       "</table>\n",
       "<p>1065 rows × 5 columns</p>\n",
       "</div>"
      ],
      "text/plain": [
       "                     1. open   2. high   3. low  4. close  5. volume\n",
       "date                                                                \n",
       "2020-06-30 16:00:00   204.22  204.2300  201.370   203.460  2957591.0\n",
       "2020-06-30 15:55:00   202.77  204.4000  202.770   204.220  1802476.0\n",
       "2020-06-30 15:50:00   202.47  202.7900  202.380   202.790   591486.0\n",
       "2020-06-30 15:45:00   202.41  202.5300  202.345   202.455   355698.0\n",
       "2020-06-30 15:40:00   202.44  202.4563  202.260   202.410   298837.0\n",
       "...                      ...       ...      ...       ...        ...\n",
       "2020-06-11 09:55:00   193.52  194.1000  193.460   193.846   552265.0\n",
       "2020-06-11 09:50:00   193.36  193.7000  192.950   193.540   567395.0\n",
       "2020-06-11 09:45:00   192.58  193.4000  192.320   193.320   764458.0\n",
       "2020-06-11 09:40:00   192.50  192.7700  192.020   192.590  1864737.0\n",
       "2020-06-11 09:35:00   193.13  193.8900  192.050   193.120  1919247.0\n",
       "\n",
       "[1065 rows x 5 columns]"
      ]
     },
     "execution_count": 4,
     "metadata": {},
     "output_type": "execute_result"
    }
   ],
   "source": [
    "ts.get_intraday(symbol = 'MSFT', interval = '5min', outputsize = 'full')[0]"
   ]
  },
  {
   "cell_type": "code",
   "execution_count": 5,
   "metadata": {},
   "outputs": [
    {
     "name": "stdout",
     "output_type": "stream",
     "text": [
      "INTC  :failed to fetch data...retrying\n",
      "CSCO  :failed to fetch data...retrying\n",
      "IBM  :failed to fetch data...retrying\n",
      "LYFT  :failed to fetch data...retrying\n",
      "INTC  :failed to fetch data...retrying\n",
      "CSCO  :failed to fetch data...retrying\n",
      "IBM  :failed to fetch data...retrying\n",
      "LYFT  :failed to fetch data...retrying\n",
      "INTC  :failed to fetch data...retrying\n",
      "CSCO  :failed to fetch data...retrying\n",
      "IBM  :failed to fetch data...retrying\n",
      "LYFT  :failed to fetch data...retrying\n",
      "INTC  :failed to fetch data...retrying\n",
      "CSCO  :failed to fetch data...retrying\n",
      "IBM  :failed to fetch data...retrying\n",
      "LYFT  :failed to fetch data...retrying\n",
      "INTC  :failed to fetch data...retrying\n",
      "CSCO  :failed to fetch data...retrying\n",
      "IBM  :failed to fetch data...retrying\n",
      "LYFT  :failed to fetch data...retrying\n",
      "INTC  :failed to fetch data...retrying\n",
      "CSCO  :failed to fetch data...retrying\n",
      "IBM  :failed to fetch data...retrying\n",
      "LYFT  :failed to fetch data...retrying\n",
      "INTC  :failed to fetch data...retrying\n",
      "CSCO  :failed to fetch data...retrying\n",
      "IBM  :failed to fetch data...retrying\n",
      "LYFT  :failed to fetch data...retrying\n",
      "INTC  :failed to fetch data...retrying\n",
      "CSCO  :failed to fetch data...retrying\n",
      "IBM  :failed to fetch data...retrying\n",
      "LYFT  :failed to fetch data...retrying\n",
      "INTC  :failed to fetch data...retrying\n",
      "CSCO  :failed to fetch data...retrying\n",
      "IBM  :failed to fetch data...retrying\n",
      "LYFT  :failed to fetch data...retrying\n",
      "INTC  :failed to fetch data...retrying\n",
      "CSCO  :failed to fetch data...retrying\n",
      "IBM  :failed to fetch data...retrying\n",
      "LYFT  :failed to fetch data...retrying\n",
      "INTC  :failed to fetch data...retrying\n",
      "CSCO  :failed to fetch data...retrying\n",
      "IBM  :failed to fetch data...retrying\n",
      "LYFT  :failed to fetch data...retrying\n",
      "INTC  :failed to fetch data...retrying\n",
      "CSCO  :failed to fetch data...retrying\n",
      "IBM  :failed to fetch data...retrying\n",
      "LYFT  :failed to fetch data...retrying\n",
      "INTC  :failed to fetch data...retrying\n",
      "CSCO  :failed to fetch data...retrying\n",
      "IBM  :failed to fetch data...retrying\n",
      "LYFT  :failed to fetch data...retrying\n",
      "INTC  :failed to fetch data...retrying\n",
      "CSCO  :failed to fetch data...retrying\n",
      "IBM  :failed to fetch data...retrying\n",
      "LYFT  :failed to fetch data...retrying\n",
      "INTC  :failed to fetch data...retrying\n",
      "CSCO  :failed to fetch data...retrying\n",
      "IBM  :failed to fetch data...retrying\n",
      "LYFT  :failed to fetch data...retrying\n",
      "INTC  :failed to fetch data...retrying\n",
      "CSCO  :failed to fetch data...retrying\n",
      "IBM  :failed to fetch data...retrying\n",
      "LYFT  :failed to fetch data...retrying\n",
      "INTC  :failed to fetch data...retrying\n",
      "CSCO  :failed to fetch data...retrying\n",
      "IBM  :failed to fetch data...retrying\n",
      "LYFT  :failed to fetch data...retrying\n",
      "INTC  :failed to fetch data...retrying\n",
      "CSCO  :failed to fetch data...retrying\n",
      "IBM  :failed to fetch data...retrying\n",
      "LYFT  :failed to fetch data...retrying\n",
      "INTC  :failed to fetch data...retrying\n",
      "CSCO  :failed to fetch data...retrying\n",
      "IBM  :failed to fetch data...retrying\n",
      "LYFT  :failed to fetch data...retrying\n",
      "INTC  :failed to fetch data...retrying\n",
      "CSCO  :failed to fetch data...retrying\n",
      "IBM  :failed to fetch data...retrying\n",
      "LYFT  :failed to fetch data...retrying\n",
      "INTC  :failed to fetch data...retrying\n",
      "CSCO  :failed to fetch data...retrying\n",
      "IBM  :failed to fetch data...retrying\n",
      "LYFT  :failed to fetch data...retrying\n",
      "INTC  :failed to fetch data...retrying\n",
      "CSCO  :failed to fetch data...retrying\n",
      "IBM  :failed to fetch data...retrying\n",
      "LYFT  :failed to fetch data...retrying\n",
      "INTC  :failed to fetch data...retrying\n",
      "CSCO  :failed to fetch data...retrying\n",
      "IBM  :failed to fetch data...retrying\n",
      "LYFT  :failed to fetch data...retrying\n",
      "INTC  :failed to fetch data...retrying\n",
      "CSCO  :failed to fetch data...retrying\n",
      "IBM  :failed to fetch data...retrying\n",
      "LYFT  :failed to fetch data...retrying\n",
      "INTC  :failed to fetch data...retrying\n",
      "CSCO  :failed to fetch data...retrying\n",
      "IBM  :failed to fetch data...retrying\n",
      "LYFT  :failed to fetch data...retrying\n",
      "INTC  :failed to fetch data...retrying\n",
      "CSCO  :failed to fetch data...retrying\n",
      "IBM  :failed to fetch data...retrying\n",
      "LYFT  :failed to fetch data...retrying\n",
      "INTC  :failed to fetch data...retrying\n",
      "CSCO  :failed to fetch data...retrying\n",
      "IBM  :failed to fetch data...retrying\n",
      "LYFT  :failed to fetch data...retrying\n",
      "INTC  :failed to fetch data...retrying\n",
      "CSCO  :failed to fetch data...retrying\n",
      "IBM  :failed to fetch data...retrying\n",
      "LYFT  :failed to fetch data...retrying\n",
      "INTC  :failed to fetch data...retrying\n",
      "CSCO  :failed to fetch data...retrying\n",
      "IBM  :failed to fetch data...retrying\n",
      "LYFT  :failed to fetch data...retrying\n",
      "INTC  :failed to fetch data...retrying\n",
      "CSCO  :failed to fetch data...retrying\n",
      "IBM  :failed to fetch data...retrying\n",
      "LYFT  :failed to fetch data...retrying\n",
      "INTC  :failed to fetch data...retrying\n",
      "CSCO  :failed to fetch data...retrying\n",
      "IBM  :failed to fetch data...retrying\n",
      "LYFT  :failed to fetch data...retrying\n",
      "INTC  :failed to fetch data...retrying\n",
      "CSCO  :failed to fetch data...retrying\n",
      "IBM  :failed to fetch data...retrying\n",
      "LYFT  :failed to fetch data...retrying\n",
      "INTC  :failed to fetch data...retrying\n",
      "CSCO  :failed to fetch data...retrying\n",
      "IBM  :failed to fetch data...retrying\n",
      "LYFT  :failed to fetch data...retrying\n",
      "INTC  :failed to fetch data...retrying\n",
      "CSCO  :failed to fetch data...retrying\n",
      "IBM  :failed to fetch data...retrying\n",
      "LYFT  :failed to fetch data...retrying\n"
     ]
    }
   ],
   "source": [
    "tickers = [\"MSFT\",\"AAPL\",\"FB\",\"AMZN\",\"INTC\", \"CSCO\",\"IBM\",\"LYFT\"]\n",
    "ohlc_intraday = {} # directory with ohlc value for each stock            \n",
    "attempt = 0 # initializing passthrough variable\n",
    "drop = [] # initializing list to store tickers whose close price was successfully extracted\n",
    "while len(tickers) != 0 and attempt <=300:\n",
    "    tickers = [j for j in tickers if j not in drop]\n",
    "    for i in range(len(tickers)):\n",
    "        try:\n",
    "            ohlc_intraday[tickers[i]] = ts.get_intraday(symbol=tickers[i],interval='5min', outputsize='full')[0]\n",
    "            ohlc_intraday[tickers[i]].columns = [\"Open\",\"High\",\"Low\",\"Adj Close\",\"Volume\"]\n",
    "            drop.append(tickers[i])      \n",
    "        except:\n",
    "            print(tickers[i],\" :failed to fetch data...retrying\")\n",
    "            continue\n",
    "    attempt+=1\n",
    "\n",
    " \n",
    "tickers = ohlc_intraday.keys()"
   ]
  },
  {
   "cell_type": "code",
   "execution_count": 6,
   "metadata": {},
   "outputs": [
    {
     "data": {
      "text/plain": [
       "dict_keys(['MSFT', 'AAPL', 'FB', 'AMZN', 'INTC', 'CSCO', 'IBM', 'LYFT'])"
      ]
     },
     "execution_count": 6,
     "metadata": {},
     "output_type": "execute_result"
    }
   ],
   "source": [
    "tickers"
   ]
  },
  {
   "cell_type": "code",
   "execution_count": 7,
   "metadata": {},
   "outputs": [
    {
     "data": {
      "text/plain": [
       "DatetimeIndex(['2020-06-30 16:00:00', '2020-06-30 15:55:00',\n",
       "               '2020-06-30 15:50:00', '2020-06-30 15:45:00',\n",
       "               '2020-06-30 15:40:00', '2020-06-30 15:35:00',\n",
       "               '2020-06-30 15:30:00', '2020-06-30 15:25:00',\n",
       "               '2020-06-30 15:20:00', '2020-06-30 15:15:00',\n",
       "               ...\n",
       "               '2020-06-11 10:20:00', '2020-06-11 10:15:00',\n",
       "               '2020-06-11 10:10:00', '2020-06-11 10:05:00',\n",
       "               '2020-06-11 10:00:00', '2020-06-11 09:55:00',\n",
       "               '2020-06-11 09:50:00', '2020-06-11 09:45:00',\n",
       "               '2020-06-11 09:40:00', '2020-06-11 09:35:00'],\n",
       "              dtype='datetime64[ns]', name='date', length=1065, freq=None)"
      ]
     },
     "execution_count": 7,
     "metadata": {},
     "output_type": "execute_result"
    }
   ],
   "source": [
    "ohlc_intraday['MSFT'].index"
   ]
  },
  {
   "cell_type": "code",
   "execution_count": 8,
   "metadata": {},
   "outputs": [
    {
     "name": "stdout",
     "output_type": "stream",
     "text": [
      "merging for  MSFT\n"
     ]
    },
    {
     "name": "stderr",
     "output_type": "stream",
     "text": [
      "C:\\Users\\Yiwen L\\Documents\\alg_t\\code\\Technical_Indicators.py:375: SettingWithCopyWarning: \n",
      "A value is trying to be set on a copy of a slice from a DataFrame\n",
      "\n",
      "See the caveats in the documentation: http://pandas.pydata.org/pandas-docs/stable/user_guide/indexing.html#returning-a-view-versus-a-copy\n",
      "  renko_df[\"bar_num\"][i]+=renko_df[\"bar_num\"][i-1].copy()\n",
      "C:\\Users\\Yiwen L\\Documents\\alg_t\\code\\Technical_Indicators.py:377: SettingWithCopyWarning: \n",
      "A value is trying to be set on a copy of a slice from a DataFrame\n",
      "\n",
      "See the caveats in the documentation: http://pandas.pydata.org/pandas-docs/stable/user_guide/indexing.html#returning-a-view-versus-a-copy\n",
      "  renko_df[\"bar_num\"][i]+=renko_df[\"bar_num\"][i-1].copy()\n",
      "C:\\Users\\Yiwen L\\Documents\\alg_t\\code\\Technical_Indicators.py:386: SettingWithCopyWarning: \n",
      "A value is trying to be set on a copy of a slice from a DataFrame\n",
      "\n",
      "See the caveats in the documentation: http://pandas.pydata.org/pandas-docs/stable/user_guide/indexing.html#returning-a-view-versus-a-copy\n",
      "  df['direction'][0] = 0\n"
     ]
    },
    {
     "name": "stdout",
     "output_type": "stream",
     "text": [
      "merging for  AAPL\n",
      "merging for  FB\n",
      "merging for  AMZN\n",
      "merging for  INTC\n",
      "merging for  CSCO\n",
      "merging for  IBM\n",
      "merging for  LYFT\n"
     ]
    }
   ],
   "source": [
    "################################Backtesting####################################\n",
    "\n",
    "#Merging renko df with original ohlc df\n",
    "ohlc_renko = {}\n",
    "df = copy.deepcopy(ohlc_intraday)\n",
    "tickers_signal = {}\n",
    "tickers_ret = {}\n",
    "for ticker in tickers:\n",
    "    print(\"merging for \",ticker)\n",
    "    renko = renko_DF(df[ticker])\n",
    "    renko.columns = [\"Date\",\"open\",\"high\",\"low\",\"close\",\"uptrend\",\"bar_num\"]\n",
    "    df[ticker][\"Date\"] = df[ticker].index\n",
    "    ohlc_renko[ticker] = df[ticker].merge(renko.loc[:,[\"Date\",\"bar_num\"]],how=\"outer\",on=\"Date\")\n",
    "    ohlc_renko[ticker][\"bar_num\"].fillna(method='ffill',inplace=True)\n",
    "    ohlc_renko[ticker][\"obv\"]= OBV(ohlc_renko[ticker])\n",
    "    ohlc_renko[ticker][\"obv_slope\"]= slope(ohlc_renko[ticker][\"obv\"],5)\n",
    "    tickers_signal[ticker] = \"\"\n",
    "    tickers_ret[ticker] = []"
   ]
  },
  {
   "cell_type": "code",
   "execution_count": 9,
   "metadata": {},
   "outputs": [
    {
     "name": "stdout",
     "output_type": "stream",
     "text": [
      "calculating daily returns for  MSFT\n",
      "calculating daily returns for  AAPL\n",
      "calculating daily returns for  FB\n",
      "calculating daily returns for  AMZN\n",
      "calculating daily returns for  INTC\n",
      "calculating daily returns for  CSCO\n",
      "calculating daily returns for  IBM\n",
      "calculating daily returns for  LYFT\n"
     ]
    }
   ],
   "source": [
    "#Identifying signals and calculating daily return\n",
    "for ticker in tickers:\n",
    "    print(\"calculating daily returns for \",ticker)\n",
    "    for i in range(len(ohlc_intraday[ticker])):\n",
    "        if tickers_signal[ticker] == \"\":\n",
    "            tickers_ret[ticker].append(0)\n",
    "            if ohlc_renko[ticker][\"bar_num\"][i]>=2 and ohlc_renko[ticker][\"obv_slope\"][i]>30:\n",
    "                tickers_signal[ticker] = \"Buy\"\n",
    "            elif ohlc_renko[ticker][\"bar_num\"][i]<=-2 and ohlc_renko[ticker][\"obv_slope\"][i]<-30:\n",
    "                tickers_signal[ticker] = \"Sell\"\n",
    "        \n",
    "        elif tickers_signal[ticker] == \"Buy\":\n",
    "            tickers_ret[ticker].append((ohlc_renko[ticker][\"Adj Close\"][i]/ohlc_renko[ticker][\"Adj Close\"][i-1])-1)\n",
    "            if ohlc_renko[ticker][\"bar_num\"][i]<=-2 and ohlc_renko[ticker][\"obv_slope\"][i]<-30:\n",
    "                tickers_signal[ticker] = \"Sell\"\n",
    "            elif ohlc_renko[ticker][\"bar_num\"][i]<2:\n",
    "                tickers_signal[ticker] = \"\"\n",
    "                \n",
    "        elif tickers_signal[ticker] == \"Sell\":\n",
    "            tickers_ret[ticker].append((ohlc_renko[ticker][\"Adj Close\"][i-1]/ohlc_renko[ticker][\"Adj Close\"][i])-1)\n",
    "            if ohlc_renko[ticker][\"bar_num\"][i]>=2 and ohlc_renko[ticker][\"obv_slope\"][i]>30:\n",
    "                tickers_signal[ticker] = \"Buy\"\n",
    "            elif ohlc_renko[ticker][\"bar_num\"][i]>-2:\n",
    "                tickers_signal[ticker] = \"\"\n",
    "    ohlc_renko[ticker][\"ret\"] = np.array(tickers_ret[ticker])\n"
   ]
  },
  {
   "cell_type": "code",
   "execution_count": 11,
   "metadata": {},
   "outputs": [
    {
     "data": {
      "text/plain": [
       "0.05611173562529074"
      ]
     },
     "execution_count": 11,
     "metadata": {},
     "output_type": "execute_result"
    }
   ],
   "source": [
    "\n",
    "#calculating overall strategy's KPIs\n",
    "strategy_df = pd.DataFrame()\n",
    "for ticker in tickers:\n",
    "    strategy_df[ticker] = ohlc_renko[ticker][\"ret\"]\n",
    "strategy_df[\"ret\"] = strategy_df.mean(axis=1)\n",
    "CAGR_intraday(strategy_df)\n",
    "sharpe_intraday(strategy_df,0.025)\n",
    "max_dd_intraday(strategy_df)  "
   ]
  },
  {
   "cell_type": "code",
   "execution_count": 12,
   "metadata": {},
   "outputs": [
    {
     "data": {
      "text/plain": [
       "<matplotlib.axes._subplots.AxesSubplot at 0x1b3f45aed88>"
      ]
     },
     "execution_count": 12,
     "metadata": {},
     "output_type": "execute_result"
    },
    {
     "data": {
      "image/png": "[encoded data removed]",
      "text/plain": [
       "<Figure size 432x288 with 1 Axes>"
      ]
     },
     "metadata": {
      "needs_background": "light"
     },
     "output_type": "display_data"
    }
   ],
   "source": [
    "\n",
    "#visualizing strategy returns\n",
    "(1+strategy_df[\"ret\"]).cumprod().plot()\n"
   ]
  },
  {
   "cell_type": "code",
   "execution_count": 14,
   "metadata": {},
   "outputs": [
    {
     "name": "stdout",
     "output_type": "stream",
     "text": [
      "calculating KPIs for  MSFT\n",
      "calculating KPIs for  AAPL\n",
      "calculating KPIs for  FB\n",
      "calculating KPIs for  AMZN\n",
      "calculating KPIs for  INTC\n",
      "calculating KPIs for  CSCO\n",
      "calculating KPIs for  IBM\n",
      "calculating KPIs for  LYFT\n"
     ]
    },
    {
     "data": {
      "text/html": [
       "<div>\n",
       "<style scoped>\n",
       "    .dataframe tbody tr th:only-of-type {\n",
       "        vertical-align: middle;\n",
       "    }\n",
       "\n",
       "    .dataframe tbody tr th {\n",
       "        vertical-align: top;\n",
       "    }\n",
       "\n",
       "    .dataframe thead th {\n",
       "        text-align: right;\n",
       "    }\n",
       "</style>\n",
       "<table border=\"1\" class=\"dataframe\">\n",
       "  <thead>\n",
       "    <tr style=\"text-align: right;\">\n",
       "      <th></th>\n",
       "      <th>Return</th>\n",
       "      <th>Sharpe Ratio</th>\n",
       "      <th>Max Drawdown</th>\n",
       "    </tr>\n",
       "  </thead>\n",
       "  <tbody>\n",
       "    <tr>\n",
       "      <td>MSFT</td>\n",
       "      <td>-0.387764</td>\n",
       "      <td>-1.642704</td>\n",
       "      <td>0.080827</td>\n",
       "    </tr>\n",
       "    <tr>\n",
       "      <td>AAPL</td>\n",
       "      <td>-0.111526</td>\n",
       "      <td>-0.531468</td>\n",
       "      <td>0.068383</td>\n",
       "    </tr>\n",
       "    <tr>\n",
       "      <td>FB</td>\n",
       "      <td>-0.579449</td>\n",
       "      <td>-1.738916</td>\n",
       "      <td>0.108727</td>\n",
       "    </tr>\n",
       "    <tr>\n",
       "      <td>AMZN</td>\n",
       "      <td>0.377774</td>\n",
       "      <td>1.446310</td>\n",
       "      <td>0.056629</td>\n",
       "    </tr>\n",
       "    <tr>\n",
       "      <td>INTC</td>\n",
       "      <td>-0.042443</td>\n",
       "      <td>-0.261741</td>\n",
       "      <td>0.074320</td>\n",
       "    </tr>\n",
       "    <tr>\n",
       "      <td>CSCO</td>\n",
       "      <td>-0.548353</td>\n",
       "      <td>-2.243594</td>\n",
       "      <td>0.086962</td>\n",
       "    </tr>\n",
       "    <tr>\n",
       "      <td>IBM</td>\n",
       "      <td>-0.695786</td>\n",
       "      <td>-2.753519</td>\n",
       "      <td>0.098781</td>\n",
       "    </tr>\n",
       "    <tr>\n",
       "      <td>LYFT</td>\n",
       "      <td>-0.884356</td>\n",
       "      <td>-1.504780</td>\n",
       "      <td>0.162243</td>\n",
       "    </tr>\n",
       "  </tbody>\n",
       "</table>\n",
       "</div>"
      ],
      "text/plain": [
       "        Return  Sharpe Ratio  Max Drawdown\n",
       "MSFT -0.387764     -1.642704      0.080827\n",
       "AAPL -0.111526     -0.531468      0.068383\n",
       "FB   -0.579449     -1.738916      0.108727\n",
       "AMZN  0.377774      1.446310      0.056629\n",
       "INTC -0.042443     -0.261741      0.074320\n",
       "CSCO -0.548353     -2.243594      0.086962\n",
       "IBM  -0.695786     -2.753519      0.098781\n",
       "LYFT -0.884356     -1.504780      0.162243"
      ]
     },
     "execution_count": 14,
     "metadata": {},
     "output_type": "execute_result"
    }
   ],
   "source": [
    "#calculating individual stock's KPIs\n",
    "cagr = {}\n",
    "sharpe_ratios = {}\n",
    "max_drawdown = {}\n",
    "for ticker in tickers:\n",
    "    print(\"calculating KPIs for \",ticker)      \n",
    "    cagr[ticker] =  CAGR_intraday(ohlc_renko[ticker])\n",
    "    sharpe_ratios[ticker] =  sharpe_intraday(ohlc_renko[ticker],0.025)\n",
    "    max_drawdown[ticker] =  max_dd_intraday(ohlc_renko[ticker])\n",
    "\n",
    "KPI_df = pd.DataFrame([cagr,sharpe_ratios,max_drawdown],index=[\"Return\",\"Sharpe Ratio\",\"Max Drawdown\"])      \n",
    "KPI_df.T"
   ]
  },
  {
   "cell_type": "code",
   "execution_count": null,
   "metadata": {},
   "outputs": [],
   "source": []
  }
 ],
 "metadata": {
  "kernelspec": {
   "display_name": "Python 3",
   "language": "python",
   "name": "python3"
  },
  "language_info": {
   "codemirror_mode": {
    "name": "ipython",
    "version": 3
   },
   "file_extension": ".py",
   "mimetype": "text/x-python",
   "name": "python",
   "nbconvert_exporter": "python",
   "pygments_lexer": "ipython3",
   "version": "3.7.4"
  }
 },
 "nbformat": 4,
 "nbformat_minor": 2
}
