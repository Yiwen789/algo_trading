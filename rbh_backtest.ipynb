{
 "cells": [
  {
   "cell_type": "code",
   "execution_count": null,
   "metadata": {},
   "outputs": [],
   "source": [
    "from Robinhood import Robinhood\n",
    "import pandas as pd\n",
    "import numpy as np\n",
    "import requests\n",
    "from bs4 import BeautifulSoup\n",
    "import time\n",
    "import datetime as dt"
   ]
  },
  {
   "cell_type": "markdown",
   "metadata": {},
   "source": [
    "==================================================tickers============================================================"
   ]
  },
  {
   "cell_type": "code",
   "execution_count": null,
   "metadata": {},
   "outputs": [],
   "source": [
    "#technical indicators\n",
    "#column names: time, open_price, close_price, high_price, low_price, volume\n",
    "\n",
    "#Average True Range\n",
    "def atr(df,n):\n",
    "    df['h-l']=abs(df['high_price']-df['low_price'])\n",
    "    df['h-pc']=abs(df['high_price']-df['close_price'].shift(1))\n",
    "    df['l-pc']=abs(df['low_price']-df['close_price'].shift(1))\n",
    "    df['tr']=df[['h-l','h-pc','l-pc']].max(axis=1,skipna=False)\n",
    "    df['atr'] = df['tr'].rolling(n).mean()\n",
    "    #df['ATR'] = df['TR'].ewm(span=n,adjust=False,min_periods=n).mean()\n",
    "    #df = df.drop(['H-L','H-PC','L-PC'],axis=1)\n",
    "    return df['atr']\n",
    "\n",
    "#cumulative annual growth rate\n",
    "def cagr(df):\n",
    "    #df['ret'] = df['close_price'].pct_change()\n",
    "    df[\"cum_return\"] = (1 + df[\"ret\"]).cumprod()\n",
    "    n = len(df)/len(df)\n",
    "    cagr = (df[\"cum_return\"].tolist()[-1])**(1/n) - 1\n",
    "    return cagr\n",
    "\n",
    "#volatility\n",
    "def volatility(df):\n",
    "    #df['ret'] = df['close_price'].pct_change()\n",
    "    vol = df[\"ret\"].std() * np.sqrt(len(df))\n",
    "    return vol\n",
    "\n",
    "#sharpe ratio, rf is the risk free ratio\n",
    "\n",
    "def sharpe(df, rf):\n",
    "    sr = (cagr(df) - rf)/volatility(df)\n",
    "    return sr\n",
    "\n",
    "def max_dd(df):\n",
    "    df[\"cum_return\"] = (1 + df[\"ret\"]).cumprod()\n",
    "    df[\"cum_roll_max\"] = df[\"cum_return\"].cummax()\n",
    "    df[\"drawdown\"] = df[\"cum_roll_max\"] - df[\"cum_return\"]\n",
    "    df[\"drawdown_pct\"] = df[\"drawdown\"]/df[\"cum_roll_max\"]\n",
    "    max_dd = df[\"drawdown_pct\"].max()\n",
    "    return max_dd"
   ]
  },
  {
   "cell_type": "code",
   "execution_count": null,
   "metadata": {},
   "outputs": [],
   "source": [
    "#get historical trade data\n",
    "def get_ohlcv(robinhood_client, tickers, itvl, prd): #tickers is a list of tickers, itvl: interval, prd: period\n",
    "    ohlcv = {}\n",
    "    for ticker in tickers:\n",
    "        print(ticker)\n",
    "        print('retreiving data for ' + ticker)\n",
    "        data = robinhood_client.get_historical_quotes(ticker, itvl, prd)['results'][0]['historicals']\n",
    "        df = pd.DataFrame(data = data)\n",
    "#        df = df.dropna(inplace = True)\n",
    "#        print(df)\n",
    "        df.columns.values[0] = \"time\"\n",
    "        df[\"time\"] = pd.to_datetime(df['time'])  #'%Y-%m-%dT%H:%M:%SZ\n",
    "        df = df.set_index(\"time\")\n",
    "        df.index = df.index.tz_convert('US/Eastern')\n",
    "        #df[\"time\"] = dt.datetime.strptime(df['time'].astype(str), \"%Y-%m-%d %H:%M:%S\")\n",
    "        df = df.iloc[:, :-2]\n",
    "        df[['open_price', 'close_price', 'high_price', 'low_price']] = df[['open_price', 'close_price', 'high_price', 'low_price']].apply(pd.to_numeric)\n",
    "        #=====================\n",
    "        df['atr'] = atr(df, 20)\n",
    "        df['roll_max_cp'] = df['high_price'].rolling(20).max()\n",
    "        df['roll_min_cp'] = df['low_price'].rolling(20).max()\n",
    "        df['roll_max_vol'] = df['volume'].rolling(20).max()\n",
    "        ohlcv[ticker] = df\n",
    "    return ohlcv"
   ]
  },
  {
   "cell_type": "code",
   "execution_count": null,
   "metadata": {},
   "outputs": [],
   "source": [
    "robinhood_client = Robinhood()\n",
    "robinhood_client.login(username = 'yiwenluo1@outlook.com', password = 'lyw729rolling')"
   ]
  },
  {
   "cell_type": "code",
   "execution_count": null,
   "metadata": {},
   "outputs": [],
   "source": [
    "#import stock ticers from robinhood lists\n",
    "def scrape_table(table_url):\n",
    "    #get table\n",
    "    page = requests.get(table_url)\n",
    "    page_content = page.content\n",
    "    soup = BeautifulSoup(page_content, 'html.parser')\n",
    "    table = soup.find_all('table', {'id': 'constituents'})\n",
    "\n",
    "    #read scraped data into list\n",
    "    all_rows = [] \n",
    "    for t in table:\n",
    "        rows = t.find_all('tr')\n",
    "        for row in rows:\n",
    "            value = row.get_text()\n",
    "            all_rows.append(value)\n",
    "\n",
    "    #convert list to dataframe\n",
    "    df = pd.DataFrame(all_rows)\n",
    "    df = df[0].str.split('\\n', expand = True)\n",
    "    df = df.iloc[1:, [1, 3]]\n",
    "    df.columns = ['symbol', 'security']\n",
    "    return df\n",
    "\n",
    "#append last trade price to tickers, price is converted into float\n",
    "def append_price(df):\n",
    "    df['last_trade_price'] = df['symbol'].apply(lambda x: robinhood_client.quote_data(x)['last_trade_price'])\n",
    "    df['last_trade_price'] = df['last_trade_price'].apply(pd.to_numeric)\n",
    "    return df\n",
    "\n",
    "\n",
    "#s&p 500 wikipedia url\n",
    "snp_url = 'https://en.wikipedia.org/wiki/List_of_S%26P_500_companies'\n",
    "\n",
    "snp = append_price(scrape_table(snp_url))\n",
    "\n",
    "snp_s = snp[snp.last_trade_price < 50]\n",
    "my_tickers = snp_s['symbol'].values.tolist()\n",
    "\n",
    "ohlcv = get_ohlcv(robinhood_client, my_tickers, '5minute', 'week')"
   ]
  },
  {
   "cell_type": "code",
   "execution_count": null,
   "metadata": {},
   "outputs": [],
   "source": [
    "#0810 TOP MOVERS\n",
    "my_tickers = ['GRPN', 'TDC', 'UFS', 'SG', 'TRUE', 'NUZE', 'RC', 'SSTI', 'OCFT', 'YELP', 'VIVO', 'PETQ', 'PDFS', 'NH']\n",
    "ohlcv = get_ohlcv(robinhood_client, my_tickers, '5minute', 'week')"
   ]
  },
  {
   "cell_type": "code",
   "execution_count": null,
   "metadata": {},
   "outputs": [],
   "source": [
    "my_tickers = ['FCX', 'CTL', 'BKR', 'RF', 'SYF', 'UNM', 'OKE', 'NLOK', 'IVZ']\n",
    "ohlcv = get_ohlcv(robinhood_client, my_tickers, '5minute', 'week')"
   ]
  },
  {
   "cell_type": "code",
   "execution_count": null,
   "metadata": {},
   "outputs": [],
   "source": [
    "#cannabis tickers\n",
    "my_tickers = ['ACB', 'CGC', 'CRON', 'TLRY', 'SSPK', 'HEXO', 'OGI', 'SPRWF', \n",
    "              'SNDL', 'CNTTQ', 'HUGE', 'GTEC', 'SCNA', 'TRTC', 'PURA', 'HEMP',\n",
    "             'HMPQ']\n",
    "ohlcv = get_ohlcv(robinhood_client, my_tickers, '5minute', 'week')"
   ]
  },
  {
   "cell_type": "code",
   "execution_count": null,
   "metadata": {},
   "outputs": [],
   "source": [
    "#top movers tickers\n",
    "my_tickers = ['OSTK', 'PRK', 'SBH', 'MTLS', 'UCTT', 'TSE', 'HOME', 'PDFS', 'LMNL', \n",
    "              'PI', 'GTX', 'KRA', 'EROS', 'BLCT', 'TAOP', 'QEP', 'SPPI', 'BLNK',\n",
    "              'MOGU', 'ADMA']\n",
    "ohlcv = get_ohlcv(robinhood_client, my_tickers, '5minute', 'week')"
   ]
  },
  {
   "cell_type": "code",
   "execution_count": null,
   "metadata": {},
   "outputs": [],
   "source": [
    "#upcoming earnings \n",
    "my_tickers = ['NOK', 'SIRI', 'NOG', 'PCG', 'RWT', 'FCAU', 'CMCSA', 'ICAGY', 'TBIO', 'KTOS']\n",
    "ohlcv = get_ohlcv(robinhood_client, my_tickers, '5minute', 'week')"
   ]
  },
  {
   "cell_type": "markdown",
   "metadata": {},
   "source": [
    "==================================================backtesting============================================================"
   ]
  },
  {
   "cell_type": "markdown",
   "metadata": {},
   "source": [
    "strategy 1: resistance breakout"
   ]
  },
  {
   "cell_type": "markdown",
   "metadata": {},
   "source": [
    "strategy performance"
   ]
  },
  {
   "cell_type": "code",
   "execution_count": null,
   "metadata": {},
   "outputs": [],
   "source": [
    "pd.set_option('display.max_rows', 500)\n",
    "ohlcv['T'].index[-1]"
   ]
  },
  {
   "cell_type": "code",
   "execution_count": null,
   "metadata": {},
   "outputs": [],
   "source": [
    "# calculating overall strategy's KPIs\n",
    "strategy_df = pd.DataFrame()\n",
    "for ticker in my_tickers:\n",
    "    strategy_df[ticker] = ohlcv[ticker][\"ret\"]\n",
    "strategy_df[\"ret\"] = strategy_df.mean(axis=1)\n",
    "cagr(strategy_df)\n",
    "sharpe(strategy_df,0.025)\n",
    "max_dd(strategy_df)  "
   ]
  },
  {
   "cell_type": "code",
   "execution_count": null,
   "metadata": {},
   "outputs": [],
   "source": [
    "# vizualization of strategy return\n",
    "%matplotlib inline\n",
    "(1+strategy_df[\"ret\"]).cumprod().plot()"
   ]
  },
  {
   "cell_type": "code",
   "execution_count": null,
   "metadata": {
    "scrolled": false
   },
   "outputs": [],
   "source": [
    "#calculating individual stock's KPIs\n",
    "cagr_dict = {}\n",
    "sharpe_ratios = {}\n",
    "max_drawdown = {}\n",
    "hist_dict = {}\n",
    "for ticker in my_tickers:\n",
    "    print(\"calculating KPIs for \",ticker)      \n",
    "    cagr_dict[ticker] =  cagr(ohlcv[ticker])\n",
    "    sharpe_ratios[ticker] =  sharpe(ohlcv[ticker],0.025)\n",
    "    max_drawdown[ticker] =  max_dd(ohlcv[ticker])\n",
    "    hist_dict[ticker] = ohlcv[ticker]['hist'].max()\n",
    "KPI_df = pd.DataFrame([cagr_dict,sharpe_ratios,max_drawdown, hist_dict],index=[\"Return\",\"Sharpe Ratio\",\"Max Drawdown\", \"Hist\"])      \n",
    "KPI_df.T"
   ]
  },
  {
   "cell_type": "code",
   "execution_count": null,
   "metadata": {},
   "outputs": [],
   "source": [
    "KPI_df.T[KPI_df.T.Return > 0.01].sort_values(by = ['Return'], ascending = False)"
   ]
  },
  {
   "cell_type": "code",
   "execution_count": null,
   "metadata": {},
   "outputs": [],
   "source": [
    "KPI_df.T[KPI_df.T.Return > 0.01].sort_values(by = ['Return'], ascending = False).iloc[0:20]\n",
    "my_tickers2 = KPI_df.T[KPI_df.T.Return > 0.01].sort_values(by = ['Return'], ascending = False).iloc[0:20].index.values.tolist()\n",
    "my_tickers2"
   ]
  },
  {
   "cell_type": "code",
   "execution_count": null,
   "metadata": {},
   "outputs": [],
   "source": [
    "my_tickers2[0:10]"
   ]
  },
  {
   "cell_type": "code",
   "execution_count": null,
   "metadata": {},
   "outputs": [],
   "source": []
  },
  {
   "cell_type": "code",
   "execution_count": null,
   "metadata": {},
   "outputs": [],
   "source": []
  },
  {
   "cell_type": "code",
   "execution_count": null,
   "metadata": {},
   "outputs": [],
   "source": []
  }
 ],
 "metadata": {
  "kernelspec": {
   "display_name": "Python 3",
   "language": "python",
   "name": "python3"
  },
  "language_info": {
   "codemirror_mode": {
    "name": "ipython",
    "version": 3
   },
   "file_extension": ".py",
   "mimetype": "text/x-python",
   "name": "python",
   "nbconvert_exporter": "python",
   "pygments_lexer": "ipython3",
   "version": "3.8.3"
  }
 },
 "nbformat": 4,
 "nbformat_minor": 2
}
